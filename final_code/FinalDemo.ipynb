{
 "cells": [
  {
   "cell_type": "code",
   "execution_count": 3,
   "id": "051f8ab7-37e9-4217-820d-aecb04bb1e84",
   "metadata": {},
   "outputs": [],
   "source": [
    "import numpy as np\n",
    "import pandas as pd\n",
    "import os\n",
    "from scipy.interpolate import interp1d\n",
    "import CHEATCP_fxns_V3 as cf\n",
    "from scipy.interpolate import splrep, splev\n",
    "import matplotlib.pyplot as plt"
   ]
  },
  {
   "cell_type": "code",
   "execution_count": 4,
   "id": "7c342999-4da1-4a3a-a16c-bc5a6fbc0b13",
   "metadata": {},
   "outputs": [
    {
     "name": "stdout",
     "output_type": "stream",
     "text": [
      "Results Directory: C:\\Users\\LibraryUser\\Downloads\\Fall2024\\BrainAndAction\\CP\\CP\\results_final_oct10\n"
     ]
    }
   ],
   "source": [
    "BASE_DIR = r'C:\\Users\\LibraryUser\\Downloads\\Fall2024\\BrainAndAction\\CP\\CP'\n",
    "DATA_DIR = os.path.join(BASE_DIR, 'data')\n",
    "RESULTS_DIR = os.path.join(BASE_DIR, 'results_final_oct10')\n",
    "print(f\"Results Directory: {RESULTS_DIR}\")\n",
    "\n",
    "MATFILES_DIR = os.path.join(DATA_DIR, 'matfiles')\n",
    "MASTER_FILE = os.path.join(DATA_DIR, 'KINARMdataset_SubjectSummary_All Visits_OK_12-20-23.xlsx')\n",
    "DEFAULTS = cf.define_defaults()\n",
    "excel_output_path = os.path.join(RESULTS_DIR, 'Pvar_Values_BlockWise_oct14.xlsx')\n"
   ]
  },
  {
   "cell_type": "code",
   "execution_count": 7,
   "id": "b63f833a-7e33-4423-86fe-228b575fde1b",
   "metadata": {},
   "outputs": [
    {
     "name": "stdout",
     "output_type": "stream",
     "text": [
      "Master Excel file loaded successfully.\n",
      "evaluating the subject : cpvib040\n",
      "evaluated the kindData for sub : cpvib040\n",
      "evaluating the subject : cpvib040\n",
      "evaluated the kindData for sub : cpvib040\n",
      "evaluating the subject : cpvib040\n",
      "evaluated the kindData for sub : cpvib040\n",
      "evaluating the subject : cpvib040\n",
      "no peaks found\n",
      "no peaks found\n",
      "evaluated the kindData for sub : cpvib040\n",
      "evaluating the subject : cpvib040\n",
      "bad first peak\n",
      "evaluated the kindData for sub : cpvib040\n",
      "evaluating the subject : cpvib042\n",
      "evaluated the kindData for sub : cpvib042\n",
      "evaluating the subject : cpvib042\n",
      "evaluated the kindData for sub : cpvib042\n",
      "evaluating the subject : cpvib042\n",
      "skipping C:\\Users\\LibraryUser\\Downloads\\Fall2024\\BrainAndAction\\CP\\CP\\data\\matfiles\\CHEAT-CPcpvib042Day3.mat\n",
      "evaluating the subject : cpvib042\n",
      "no peaks found\n",
      "no peaks found\n",
      "evaluated the kindData for sub : cpvib042\n",
      "evaluating the subject : cpvib042\n",
      "bad first peak\n",
      "evaluated the kindData for sub : cpvib042\n",
      "Successfully loaded trials data.\n"
     ]
    }
   ],
   "source": [
    "try:\n",
    "    mdf = pd.read_excel(open(MASTER_FILE, 'rb'), sheet_name='KINARM_AllVisitsMaster')\n",
    "    print(\"Master Excel file loaded successfully.\")\n",
    "except FileNotFoundError:\n",
    "    print(f\"Master file not found at {MASTER_FILE}. Please check the path.\")\n",
    "    exit(1)\n",
    "except Exception as e:\n",
    "    print(f\"An error occurred while loading the master file: {e}\")\n",
    "    exit(1)\n",
    "\n",
    "try:\n",
    "    all_df, allTrajs = cf.getDataCP(mdf, MATFILES_DIR, DEFAULTS)\n",
    "    print(\"Successfully loaded trials data.\")\n",
    "except Exception as e:\n",
    "    print(f\"An error occurred while loading data with getDataCP: {e}\")\n",
    "    exit(1)\n"
   ]
  },
  {
   "cell_type": "code",
   "execution_count": 13,
   "id": "e3c7f075-147b-42e0-9c5d-3811538bcbac",
   "metadata": {},
   "outputs": [
    {
     "name": "stdout",
     "output_type": "stream",
     "text": [
      "Conditions : ['Reaching'] \n",
      " Durations : [750 900 625 500] \n",
      " Arms Type : ['Less Affected' 'More Affected']\n"
     ]
    }
   ],
   "source": [
    "all_df = all_df.reset_index(drop=True)\n",
    "num_points = 150  # Number of points for time normalization\n",
    "\n",
    "conditions = ['Reaching'] #only reaching trials\n",
    "durations = all_df['Duration'].unique() #should be 4 durations\n",
    "affected_type_arms = all_df['Affected'].unique()\n",
    "\n",
    "print(f'Conditions : {conditions} \\n Durations : {durations} \\n Arms Type : {affected_type_arms}')"
   ]
  },
  {
   "cell_type": "code",
   "execution_count": 15,
   "id": "d9d1d65f-6245-4bc6-b58c-87a23e941c14",
   "metadata": {},
   "outputs": [
    {
     "name": "stdout",
     "output_type": "stream",
     "text": [
      "['cpvib040' 'cpvib042']\n"
     ]
    }
   ],
   "source": [
    "pvar_results = []\n",
    "subjects = all_df['subject'].unique()\n",
    "print(subjects)"
   ]
  },
  {
   "cell_type": "code",
   "execution_count": 25,
   "id": "ec5e0368-505c-4396-b340-d4070393cdb5",
   "metadata": {},
   "outputs": [
    {
     "data": {
      "text/plain": [
       "dict_keys(['cpvib040Day5', 'cpvib040Day2', 'cpvib040Day3', 'cpvib040Day1', 'cpvib040Day4', 'cpvib042Day5', 'cpvib042Day4', 'cpvib042Day2', 'cpvib042Day1'])"
      ]
     },
     "execution_count": 25,
     "metadata": {},
     "output_type": "execute_result"
    }
   ],
   "source": [
    "allTrajs.keys()"
   ]
  },
  {
   "cell_type": "code",
   "execution_count": 35,
   "id": "d61ef31f-debf-409f-a8c3-f54fc6c954a1",
   "metadata": {},
   "outputs": [
    {
     "name": "stdout",
     "output_type": "stream",
     "text": [
      "Key : cpvib040Day5\n",
      "NaN RT or CT for trial index 13. Skipping.\n",
      "NaN RT or CT for trial index 18. Skipping.\n",
      "NaN RT or CT for trial index 19. Skipping.\n",
      "NaN RT or CT for trial index 35. Skipping.\n",
      "Key : cpvib040Day2\n",
      "NaN RT or CT for trial index 31. Skipping.\n",
      "NaN RT or CT for trial index 34. Skipping.\n",
      "NaN RT or CT for trial index 35. Skipping.\n",
      "NaN RT or CT for trial index 36. Skipping.\n",
      "NaN RT or CT for trial index 37. Skipping.\n",
      "NaN RT or CT for trial index 62. Skipping.\n",
      "NaN RT or CT for trial index 64. Skipping.\n",
      "Key : cpvib040Day3\n",
      "NaN RT or CT for trial index 40. Skipping.\n",
      "NaN RT or CT for trial index 45. Skipping.\n",
      "NaN RT or CT for trial index 65. Skipping.\n",
      "NaN RT or CT for trial index 68. Skipping.\n",
      "Key : cpvib040Day1\n",
      "NaN RT or CT for trial index 5. Skipping.\n",
      "NaN RT or CT for trial index 22. Skipping.\n",
      "NaN RT or CT for trial index 27. Skipping.\n",
      "NaN RT or CT for trial index 30. Skipping.\n",
      "NaN RT or CT for trial index 32. Skipping.\n",
      "NaN RT or CT for trial index 33. Skipping.\n",
      "NaN RT or CT for trial index 34. Skipping.\n",
      "NaN RT or CT for trial index 35. Skipping.\n",
      "NaN RT or CT for trial index 36. Skipping.\n",
      "NaN RT or CT for trial index 37. Skipping.\n",
      "Key : cpvib040Day4\n",
      "NaN RT or CT for trial index 6. Skipping.\n",
      "NaN RT or CT for trial index 7. Skipping.\n",
      "NaN RT or CT for trial index 9. Skipping.\n",
      "NaN RT or CT for trial index 10. Skipping.\n",
      "NaN RT or CT for trial index 11. Skipping.\n",
      "NaN RT or CT for trial index 15. Skipping.\n",
      "NaN RT or CT for trial index 16. Skipping.\n",
      "NaN RT or CT for trial index 44. Skipping.\n",
      "NaN RT or CT for trial index 73. Skipping.\n",
      "NaN RT or CT for trial index 74. Skipping.\n",
      "NaN RT or CT for trial index 51. Skipping.\n",
      "NaN RT or CT for trial index 69. Skipping.\n",
      "Key : cpvib042Day5\n",
      "NaN RT or CT for trial index 37. Skipping.\n",
      "NaN RT or CT for trial index 54. Skipping.\n",
      "NaN RT or CT for trial index 55. Skipping.\n",
      "NaN RT or CT for trial index 56. Skipping.\n",
      "Key : cpvib042Day4\n",
      "NaN RT or CT for trial index 6. Skipping.\n",
      "NaN RT or CT for trial index 27. Skipping.\n",
      "NaN RT or CT for trial index 45. Skipping.\n",
      "NaN RT or CT for trial index 60. Skipping.\n",
      "NaN RT or CT for trial index 67. Skipping.\n",
      "NaN RT or CT for trial index 52. Skipping.\n",
      "Key : cpvib042Day2\n",
      "NaN RT or CT for trial index 33. Skipping.\n",
      "NaN RT or CT for trial index 37. Skipping.\n",
      "NaN RT or CT for trial index 38. Skipping.\n",
      "NaN RT or CT for trial index 39. Skipping.\n",
      "NaN RT or CT for trial index 20. Skipping.\n",
      "NaN RT or CT for trial index 27. Skipping.\n",
      "NaN RT or CT for trial index 10. Skipping.\n",
      "NaN RT or CT for trial index 15. Skipping.\n",
      "NaN RT or CT for trial index 17. Skipping.\n",
      "NaN RT or CT for trial index 18. Skipping.\n",
      "NaN RT or CT for trial index 48. Skipping.\n",
      "NaN RT or CT for trial index 78. Skipping.\n",
      "NaN RT or CT for trial index 60. Skipping.\n",
      "NaN RT or CT for trial index 52. Skipping.\n",
      "NaN RT or CT for trial index 56. Skipping.\n",
      "NaN RT or CT for trial index 57. Skipping.\n",
      "Key : cpvib042Day1\n",
      "NaN RT or CT for trial index 67. Skipping.\n",
      "NaN RT or CT for trial index 70. Skipping.\n",
      "NaN RT or CT for trial index 75. Skipping.\n"
     ]
    }
   ],
   "source": [
    "for subject in subjects:\n",
    "    subject_df = all_df[all_df['subject'] == subject]\n",
    "    days = subject_df['day'].unique()\n",
    "    \n",
    "    for day in days:\n",
    "        day_df = subject_df[subject_df['day'] == day].reset_index(drop=True)\n",
    "        key = f\"{subject}{day}\"\n",
    "        print(f'Key : {key}')\n",
    "        if key not in allTrajs:\n",
    "            print(f\"Trajectories for {key} not found. Skipping.\")\n",
    "            continue \n",
    "        \n",
    "        traj_list = allTrajs[key]\n",
    "        \n",
    "        if len(traj_list) != len(day_df):\n",
    "            print(f\"Mismatch in number of trajectories for {key}. Expected {len(day_df)}, got {len(traj_list)}. Skipping.\")\n",
    "            continue\n",
    "        \n",
    "        day_df['trajData'] = traj_list\n",
    "        \n",
    "        for condition in conditions:\n",
    "            for arm in affected_type_arms:\n",
    "                for duration in durations:\n",
    "                    block_df = day_df[\n",
    "                        (day_df['Condition'] == condition) &\n",
    "                        (day_df['Affected'] == arm) &\n",
    "                        (day_df['Duration'] == duration)\n",
    "                    ]\n",
    "                    \n",
    "                    # if len(block_df) < 2:\n",
    "                    #     print(f\"Not enough trials for Subject: {subject}, Day: {day}, \"\n",
    "                    #           f\"Condition: {condition}, Arm: {arm}, Duration: {duration}. Skipping.\")\n",
    "                    #     continue \n",
    "                    \n",
    "                    norm_traj_x = []\n",
    "                    norm_traj_y = []\n",
    "                    \n",
    "                    for idx, trial in block_df.iterrows():\n",
    "                        trajData = trial['trajData']\n",
    "                        HandX = np.array(trajData.get('HandX_filt', []))\n",
    "                        HandY = np.array(trajData.get('HandY_filt', []))\n",
    "                        \n",
    "                        if len(HandX) == 0 or len(HandY) == 0:\n",
    "                            print(f\"Empty trajectory for trial index {idx}. Skipping.\")\n",
    "                            continue\n",
    "                        \n",
    "                        if np.isnan(HandX).any() or np.isnan(HandY).any():\n",
    "                            print(f\"NaN values found in trajectory for trial index {idx}. Skipping.\")\n",
    "                            continue\n",
    "                        \n",
    "                        RT = trial['RT']\n",
    "                        CT = trial['CT']\n",
    "                        \n",
    "                        if pd.isna(RT) or pd.isna(CT):\n",
    "                            print(f\"NaN RT or CT for trial index {idx}. Skipping.\")\n",
    "                            continue \n",
    "                        \n",
    "                        RT = int(RT)\n",
    "                        CT = int(CT)\n",
    "                        \n",
    "                        if RT < 0 or CT > len(HandX) or RT >= CT:\n",
    "                            print(f\"Invalid RT ({RT}) or CT ({CT}) for trial index {idx}. Skipping.\")\n",
    "                            continue \n",
    "                        # Align the trajectory from movement onset (RT) to movement end (CT)\n",
    "                        HandX_aligned = HandX[RT:CT]\n",
    "                        HandY_aligned = HandY[RT:CT]\n",
    "                        \n",
    "                        if len(HandX_aligned) < 10:\n",
    "                            print(f\"Short trajectory for trial index {idx}. Skipping.\")\n",
    "                            continue  # Skip short trajectories\n",
    "                        \n",
    "                        time = np.linspace(0, 1, len(HandX_aligned))\n",
    "                        new_time = np.linspace(0, 1, num_points)\n",
    "                        \n",
    "                        try:\n",
    "                            tck_x = splrep(time, HandX_aligned, s=0)\n",
    "                            tck_y = splrep(time, HandY_aligned, s=0)\n",
    "                            HandX_norm = splev(new_time, tck_x)\n",
    "                            HandY_norm = splev(new_time, tck_y)\n",
    "                            # HandX_norm = np.interp(new_time, time, HandX_aligned)\n",
    "                            # HandY_norm = np.interp(new_time, time, HandY_aligned)\n",
    "                        except Exception as e:\n",
    "                            print(f\"Interpolation error for trial index {idx}: {e}. Skipping.\")\n",
    "                            continue  # Skip if interpolation fails\n",
    "                        \n",
    "                        norm_traj_x.append(HandX_norm)\n",
    "                        norm_traj_y.append(HandY_norm)\n",
    "                    \n",
    "                    norm_traj_x = np.array(norm_traj_x)  \n",
    "                    norm_traj_y = np.array(norm_traj_y)\n",
    "                    \n",
    "                    if norm_traj_x.shape[0] < 2:\n",
    "                        print(f\"Not enough valid trials for Pvar calculation in Subject: {subject}, Day: {day}, \"\n",
    "                              f\"Condition: {condition}, Arm: {arm}, Duration: {duration}. Skipping.\")\n",
    "                        continue\n",
    "                    \n",
    "                    Pvar, mean_traj_x, mean_traj_y = generate_pvar(norm_traj_x, norm_traj_y)\n",
    "                    pvar_results.append({\n",
    "                        'Subject': subject,\n",
    "                        'Day': day,\n",
    "                        'Condition': condition,\n",
    "                        'Arm': arm,\n",
    "                        'Duration': duration,\n",
    "                        'Pvar': Pvar\n",
    "                    })"
   ]
  },
  {
   "cell_type": "code",
   "execution_count": 29,
   "id": "a215eeec-7e59-4bce-a25f-b1c3ce3b9bd5",
   "metadata": {},
   "outputs": [],
   "source": [
    "def generate_pvar(norm_traj_x, norm_traj_y):\n",
    "    \"\"\"\n",
    "    Computing Pvar as the sum of standard deviations across all data points as per vanthiels\n",
    "    \"\"\"\n",
    "    mean_traj_x = np.mean(norm_traj_x, axis=0)\n",
    "    mean_traj_y = np.mean(norm_traj_y, axis=0)\n",
    "    \n",
    "    deviations_x = norm_traj_x - mean_traj_x\n",
    "    deviations_y = norm_traj_y - mean_traj_y\n",
    "    \n",
    "    std_dev_x = np.std(deviations_x, axis=0)\n",
    "    std_dev_y = np.std(deviations_y, axis=0)\n",
    "    \n",
    "    Pvar = np.sum(std_dev_x + std_dev_y)\n",
    "    \n",
    "    return Pvar,mean_traj_x, mean_traj_y\n",
    "    "
   ]
  },
  {
   "cell_type": "code",
   "execution_count": 31,
   "id": "f88a9d85-cd12-42d9-8829-7650e7cdc3fb",
   "metadata": {},
   "outputs": [],
   "source": [
    "def plot_trials_and_mean(subject, condition, arm, duration, norm_traj_x, norm_traj_y, mean_traj_x, mean_traj_y, results_dir):\n",
    "    plt.figure(figsize=(10, 8))\n",
    "    \n",
    "    for i in range(norm_traj_x.shape[0]):\n",
    "        plt.plot(norm_traj_x[i], norm_traj_y[i], alpha=0.3, color='blue')\n",
    "    \n",
    "    plt.plot(mean_traj_x, mean_traj_y, color='red', linewidth=2, label='Mean Trajectory')\n",
    "    \n",
    "    plt.title(f\"Subject: {subject} - Condition: {condition}, Arm: {arm}, Duration: {duration}\")\n",
    "    plt.xlabel(\"Hand X Position\")\n",
    "    plt.ylabel(\"Hand Y Position\")\n",
    "    plt.legend()\n",
    "    plt.grid(True)\n",
    "    plt.tight_layout()\n",
    "    plot_filename = f\"{subject}_{condition}_{arm}_{duration}_trials_mean.png\"\n",
    "    plot_path = os.path.join(results_dir, plot_filename)\n",
    "    plt.savefig(plot_path)\n",
    "    plt.close()\n",
    "    \n",
    "    print(f\"Plot saved for Subject: {subject}, Condition: {condition}, Arm: {arm}, Duration: {duration} at {plot_path}\")\n"
   ]
  },
  {
   "cell_type": "code",
   "execution_count": 39,
   "id": "f97b753c-b48c-4a95-9649-6d9865514f14",
   "metadata": {},
   "outputs": [
    {
     "name": "stdout",
     "output_type": "stream",
     "text": [
      "Plot saved for Subject: cpvib042, Condition: Reaching, Arm: More Affected, Duration: 500 at C:\\Users\\LibraryUser\\Downloads\\Fall2024\\BrainAndAction\\CP\\CP\\results_final_oct10\\cpvib042_Reaching_More Affected_500_trials_mean.png\n"
     ]
    }
   ],
   "source": [
    "plot_trials_and_mean(\n",
    "    subject=subject,\n",
    "    condition=condition,\n",
    "    arm=arm,\n",
    "    duration=duration,\n",
    "    norm_traj_x=norm_traj_x,\n",
    "    norm_traj_y=norm_traj_y,\n",
    "    mean_traj_x=mean_traj_x,\n",
    "    mean_traj_y=mean_traj_y,\n",
    "    results_dir=RESULTS_DIR\n",
    ")\n"
   ]
  },
  {
   "cell_type": "code",
   "execution_count": null,
   "id": "4c1fc22b-b189-40d4-8c09-f7c3f94ca8a3",
   "metadata": {},
   "outputs": [],
   "source": []
  }
 ],
 "metadata": {
  "kernelspec": {
   "display_name": "Python 3 (ipykernel)",
   "language": "python",
   "name": "python3"
  },
  "language_info": {
   "codemirror_mode": {
    "name": "ipython",
    "version": 3
   },
   "file_extension": ".py",
   "mimetype": "text/x-python",
   "name": "python",
   "nbconvert_exporter": "python",
   "pygments_lexer": "ipython3",
   "version": "3.12.4"
  }
 },
 "nbformat": 4,
 "nbformat_minor": 5
}
